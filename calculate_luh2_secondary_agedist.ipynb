{
 "cells": [
  {
   "cell_type": "code",
   "execution_count": 1,
   "id": "a66fc794",
   "metadata": {},
   "outputs": [],
   "source": [
    "import xarray as xr\n",
    "import numpy as np\n",
    "import matplotlib.pyplot as plt \n",
    "\n",
    "from scipy.optimize import curve_fit\n",
    "from datetime import date"
   ]
  },
  {
   "cell_type": "code",
   "execution_count": 2,
   "id": "da713fa3",
   "metadata": {},
   "outputs": [],
   "source": [
    "def piecewise_exponential_cumulative(ages, k1, k2, m=94):\n",
    "    ### this function calculates a piecewise exponential function, whose integral equals one\n",
    "    # k1 is the decay rate of first exponential\n",
    "    # k2 is decay rate of secodn exponetial\n",
    "    # m is the boundary between k1 and k2\n",
    "    # this function represents the steady-state cumulative age distribution for patch ages given harvest rates for \n",
    "    # young and mature forests (k1 and k2) where m is the age that distinguishes the two age types\n",
    "    n_age_bins = len(ages)\n",
    "    \n",
    "    # calculate the frequency of youngest age bin\n",
    "    a = 1./((1./k1)+np.exp(-k1*m)*((-1/k1)+(1/k2)))\n",
    "    \n",
    "    # calculate the first piecewise exponential set\n",
    "    vals = a * np.exp(-k1*ages)\n",
    "    ##print(len(vals[m:]))\n",
    "    ##print(len(np.arange(n_age_bins-m)))\n",
    "    ##print(len(ages.isel(slice(m-n_age_bins, None))))\n",
    "    \n",
    "    # calculate the second piecewise exponential set, beginning with the last element ofthe first set\n",
    "    vals[m:] = vals[m]*np.exp(-k2*np.arange(n_age_bins-m))\n",
    "    \n",
    "    # rescale last age bin to account for all of the truncated ages beyond\n",
    "    #vals[-1] = vals[-1]/k2\n",
    "\n",
    "    vals_cumulative = vals.cumsum()\n",
    "    return(vals_cumulative)"
   ]
  },
  {
   "cell_type": "code",
   "execution_count": 3,
   "id": "44dee8a2",
   "metadata": {},
   "outputs": [],
   "source": [
    "fin_luh2 = xr.open_dataset('LUH2_states_transitions_management.timeseries_4x5_hist_simyr1650-2015_c240216.nc')"
   ]
  },
  {
   "cell_type": "markdown",
   "id": "95b2e9e5",
   "metadata": {},
   "source": [
    "fin_luh2['time'] = fin_luh2.time+850"
   ]
  },
  {
   "cell_type": "code",
   "execution_count": 4,
   "id": "7c115035",
   "metadata": {},
   "outputs": [],
   "source": [
    "nages = 300\n",
    "ntime_total = len(fin_luh2.time)\n",
    "IM = len(fin_luh2.lon)\n",
    "JM = len(fin_luh2.lat)\n",
    "\n",
    "ages = xr.DataArray(np.arange(nages), dims=['age'], coords=[np.arange(nages)])\n",
    "\n",
    "age_mature=94\n",
    "\n",
    "# this is the year that LUH2 transient data starts\n",
    "year_luh2_start = 850\n",
    "\n",
    "# this is the year that you want to calculate a steady-state logging rate for\n",
    "year_to_calc_steadystate = 2000\n"
   ]
  },
  {
   "cell_type": "code",
   "execution_count": 5,
   "id": "f795b05e",
   "metadata": {},
   "outputs": [],
   "source": [
    "area_prim = fin_luh2.primf + fin_luh2.primn\n"
   ]
  },
  {
   "cell_type": "code",
   "execution_count": 6,
   "id": "d2df4ad0",
   "metadata": {},
   "outputs": [],
   "source": [
    "rate_newsec_creation = fin_luh2.primf_harv + fin_luh2.primn_harv + fin_luh2.primf_to_secdn + fin_luh2.primn_to_secdf  + fin_luh2.urban_to_secdf  + fin_luh2.urban_to_secdn  + fin_luh2.c3ann_to_secdf  + fin_luh2.c3ann_to_secdn  + fin_luh2.c4ann_to_secdf  + fin_luh2.c4ann_to_secdn  + fin_luh2.c3per_to_secdf  + fin_luh2.c3per_to_secdn  + fin_luh2.c4per_to_secdf  + fin_luh2.c4per_to_secdn  + fin_luh2.c3nfx_to_secdf  + fin_luh2.c3nfx_to_secdn  + fin_luh2.pastr_to_secdf  + fin_luh2.pastr_to_secdn  + fin_luh2.range_to_secdf  + fin_luh2.range_to_secdn \n",
    "\n",
    "rate_sec_loss_transitions = fin_luh2.secdf_to_urban + fin_luh2.secdf_to_c3ann + fin_luh2.secdf_to_c4ann + fin_luh2.secdf_to_c3per + fin_luh2.secdf_to_c4per + fin_luh2.secdf_to_c3nfx + fin_luh2.secdf_to_pastr + fin_luh2.secdf_to_range + fin_luh2.secdn_to_urban + fin_luh2.secdn_to_c3ann + fin_luh2.secdn_to_c4ann + fin_luh2.secdn_to_c3per + fin_luh2.secdn_to_c4per + fin_luh2.secdn_to_c3nfx + fin_luh2.secdn_to_pastr + fin_luh2.secdn_to_range\n",
    "\n",
    "secmf_harv = fin_luh2.secmf_harv\n",
    "secyf_harv = fin_luh2.secyf_harv\n",
    "secnf_harv = fin_luh2.secnf_harv\n"
   ]
  },
  {
   "cell_type": "code",
   "execution_count": 7,
   "id": "6ee84712",
   "metadata": {},
   "outputs": [],
   "source": [
    "age_dist = xr.DataArray(np.zeros((ntime_total,nages,JM,IM)), dims=['time','age','lsmlat','lsmlon'], coords=[fin_luh2.time, ages, fin_luh2.lsmlat, fin_luh2.lsmlon])\n",
    "\n",
    "secy_dist = xr.DataArray(np.zeros((ntime_total,JM,IM)), dims=['time','lsmlat','lsmlon'], coords=[fin_luh2.time, fin_luh2.lsmlat, fin_luh2.lsmlon])\n",
    "secm_dist = xr.DataArray(np.zeros((ntime_total,JM,IM)), dims=['time','lsmlat','lsmlon'], coords=[fin_luh2.time, fin_luh2.lsmlat, fin_luh2.lsmlon])\n",
    "\n",
    "k_secloss_dist = xr.DataArray(np.zeros((ntime_total,JM,IM)), dims=['time','lsmlat','lsmlon'], coords=[fin_luh2.time, fin_luh2.lsmlat, fin_luh2.lsmlon])\n",
    "k_secyhar_dist = xr.DataArray(np.zeros((ntime_total,JM,IM)), dims=['time','lsmlat','lsmlon'], coords=[fin_luh2.time, fin_luh2.lsmlat, fin_luh2.lsmlon])\n",
    "k_secthar_dist = xr.DataArray(np.zeros((ntime_total,JM,IM)), dims=['time','lsmlat','lsmlon'], coords=[fin_luh2.time, fin_luh2.lsmlat, fin_luh2.lsmlon])\n",
    "k_secmhar_dist = xr.DataArray(np.zeros((ntime_total,JM,IM)), dims=['time','lsmlat','lsmlon'], coords=[fin_luh2.time, fin_luh2.lsmlat, fin_luh2.lsmlon])\n"
   ]
  },
  {
   "cell_type": "code",
   "execution_count": 8,
   "id": "4da097ac",
   "metadata": {},
   "outputs": [],
   "source": [
    "### initialize the secondary forest age as having all zero age at start of dataset\n",
    "\n",
    "sectot = fin_luh2.secdf + fin_luh2.secdn\n",
    "age_dist[0,0,:,:] = sectot.isel(time=0)"
   ]
  },
  {
   "cell_type": "code",
   "execution_count": 9,
   "id": "a67494fb",
   "metadata": {},
   "outputs": [
    {
     "name": "stdout",
     "output_type": "stream",
     "text": [
      "starting year  0\n",
      "starting year  50\n",
      "starting year  100\n",
      "starting year  150\n",
      "starting year  200\n",
      "starting year  250\n",
      "starting year  300\n",
      "starting year  350\n",
      "starting year  400\n",
      "starting year  450\n",
      "starting year  500\n",
      "starting year  550\n",
      "starting year  600\n",
      "starting year  650\n",
      "starting year  700\n",
      "starting year  750\n",
      "starting year  800\n",
      "starting year  850\n",
      "starting year  900\n",
      "starting year  950\n",
      "starting year  1000\n",
      "starting year  1050\n",
      "starting year  1100\n",
      "starting year  1150\n"
     ]
    }
   ],
   "source": [
    "for t in range(ntime_total-1):\n",
    "    if t%50 == 0:\n",
    "        print('starting year ',t)\n",
    "    secy = age_dist.isel(time=t).isel(age=slice(0,age_mature)).sum(dim='age')\n",
    "    secm = age_dist.isel(time=t).isel(age=slice(age_mature,None)).sum(dim='age')\n",
    "    \n",
    "    age_dist[t+1,0,:,:] = rate_newsec_creation.isel(time=t)\n",
    "    k_secloss = np.minimum(1.,np.nan_to_num(rate_sec_loss_transitions.isel(time=t)/sectot.isel(time=t)))\n",
    "    k_secyhar = np.minimum(1.,np.nan_to_num(secyf_harv.isel(time=t)/secy))\n",
    "    k_secthar = np.minimum(1.,np.nan_to_num(secnf_harv.isel(time=t)/sectot.isel(time=t)))\n",
    "    k_secmhar = np.minimum(1.,np.nan_to_num(secmf_harv.isel(time=t)/secm))\n",
    "\n",
    "    for age in range(age_mature):\n",
    "        age_dist[t+1,age+1] = age_dist[t,age] * (1. - np.minimum(1.,(k_secloss + k_secyhar + k_secthar)))\n",
    "        age_dist[t+1,0] = age_dist[t+1,0] + age_dist[t,age] * np.minimum(1.,(k_secyhar + k_secthar))\n",
    "    for age in range(age_mature,nages-2):\n",
    "        age_dist[t+1,age+1] = age_dist[t,age] * (1.- np.minimum(1.,(k_secloss + k_secmhar + k_secthar)))\n",
    "        age_dist[t+1,0] = age_dist[t+1,0] + age_dist[t,age] * np.minimum(1.,(k_secmhar + k_secthar))\n",
    "    age_dist[t+1,nages-1] = (age_dist[t,nages-1] + age_dist[t,nages-2]) * (1.- np.minimum(1.,(k_secloss + k_secmhar + k_secthar)))\n",
    "    age_dist[t+1,0] = age_dist[t+1,0] + (age_dist[t,nages-1] + age_dist[t,nages-2]) * np.minimum(1.,(k_secmhar + k_secthar))\n",
    "\n",
    "    secy_dist[t,:,:] = secy\n",
    "    secm_dist[t,:,:] = secm\n",
    "    k_secloss_dist[t,:,:] = k_secloss\n",
    "    k_secyhar_dist[t,:,:] = k_secyhar\n",
    "    k_secthar_dist[t,:,:] = k_secthar\n",
    "    k_secmhar_dist[t,:,:] = k_secmhar"
   ]
  },
  {
   "cell_type": "code",
   "execution_count": 10,
   "id": "ad9d0ae1",
   "metadata": {},
   "outputs": [],
   "source": [
    "age_dist_cum = age_dist.cumsum(dim='age')"
   ]
  },
  {
   "cell_type": "code",
   "execution_count": 11,
   "id": "12a5428d",
   "metadata": {},
   "outputs": [],
   "source": [
    "mean_age = (age_dist * ages).sum(dim='age') / age_dist.sum(dim='age')"
   ]
  },
  {
   "cell_type": "code",
   "execution_count": 12,
   "id": "0005bafa",
   "metadata": {},
   "outputs": [],
   "source": [
    "age_dist_cum_norm = age_dist_cum / sectot"
   ]
  },
  {
   "cell_type": "code",
   "execution_count": 13,
   "id": "fe939bb9",
   "metadata": {},
   "outputs": [],
   "source": [
    "median_secondary_age = np.abs(age_dist_cum_norm.fillna(0.) - 0.5).argmin(dim='age', skipna=True)\n",
    "median_secondary_age = (median_secondary_age * sectot / sectot)"
   ]
  },
  {
   "cell_type": "code",
   "execution_count": 14,
   "id": "f72802c3",
   "metadata": {},
   "outputs": [
    {
     "name": "stderr",
     "output_type": "stream",
     "text": [
      "/var/folders/6g/x_x6jm6s1jq6fz2gmv70hhdh0000gp/T/ipykernel_46790/3908733213.py:9: RuntimeWarning: divide by zero encountered in double_scalars\n",
      "  a = 1./((1./k1)+np.exp(-k1*m)*((-1/k1)+(1/k2)))\n"
     ]
    }
   ],
   "source": [
    "sec_young_harvestrate_rel = xr.DataArray(np.nan * np.ones([JM,IM]), dims=['lsmlat','lsmlon'], coords=[fin_luh2.lat, fin_luh2.lon])\n",
    "sec_mature_harvestrate_rel = xr.DataArray(np.nan * np.ones([JM,IM]), dims=['lsmlat','lsmlon'], coords=[fin_luh2.lat, fin_luh2.lon])\n",
    "\n",
    "\n",
    "time = year_to_calc_steadystate - year_luh2_start\n",
    "n_age_max = 150\n",
    "\n",
    "x = ages.isel(age=slice(0,n_age_max)).data\n",
    "fails = xr.DataArray(np.nan * np.ones([JM,IM]), dims=['lsmlat','lsmlon'], coords=[fin_luh2.lat, fin_luh2.lon])\n",
    "for i in range(IM):\n",
    "    for j in range(JM):\n",
    "        if sectot.sel(lsmlat=j,lsmlon=i,time=time) > 0.:\n",
    "            y = age_dist_cum_norm.isel(lsmlat=j,lsmlon=i,time=time,age=slice(0,n_age_max)).data\n",
    "            try:\n",
    "                params = curve_fit(piecewise_exponential_cumulative, x, y, p0=[0.01,0.01], bounds=[0,1])\n",
    "                #print(params)\n",
    "                sec_young_harvestrate_rel[j,i] = params[0][0]\n",
    "                sec_mature_harvestrate_rel[j,i] = params[0][1]\n",
    "            except:\n",
    "                fails[j,i] = 1.\n",
    "                sec_young_harvestrate_rel[j,i] = 0.05  ### set to some nominal value\n",
    "                sec_mature_harvestrate_rel[j,i] = 0.05  ### set to some nominal value\n",
    "        "
   ]
  },
  {
   "cell_type": "code",
   "execution_count": 15,
   "id": "95975e65",
   "metadata": {},
   "outputs": [
    {
     "data": {
      "text/plain": [
       "<matplotlib.collections.QuadMesh at 0x1671d9730>"
      ]
     },
     "execution_count": 15,
     "metadata": {},
     "output_type": "execute_result"
    },
    {
     "data": {
      "image/png": "[encoded data removed]",
      "text/plain": [
       "<Figure size 432x288 with 2 Axes>"
      ]
     },
     "metadata": {
      "needs_background": "light"
     },
     "output_type": "display_data"
    }
   ],
   "source": [
    "sec_young_harvestrate_rel.plot()"
   ]
  },
  {
   "cell_type": "code",
   "execution_count": 16,
   "id": "1c5de3fa",
   "metadata": {},
   "outputs": [
    {
     "data": {
      "text/plain": [
       "<matplotlib.collections.QuadMesh at 0x1673408e0>"
      ]
     },
     "execution_count": 16,
     "metadata": {},
     "output_type": "execute_result"
    },
    {
     "data": {
      "image/png": "[encoded data removed]",
      "text/plain": [
       "<Figure size 432x288 with 2 Axes>"
      ]
     },
     "metadata": {
      "needs_background": "light"
     },
     "output_type": "display_data"
    }
   ],
   "source": [
    "sec_mature_harvestrate_rel.plot()"
   ]
  },
  {
   "cell_type": "code",
   "execution_count": 17,
   "id": "bfdd6f98",
   "metadata": {},
   "outputs": [
    {
     "data": {
      "text/plain": [
       "<matplotlib.collections.QuadMesh at 0x1673f8d30>"
      ]
     },
     "execution_count": 17,
     "metadata": {},
     "output_type": "execute_result"
    },
    {
     "data": {
      "image/png": "[encoded data removed]",
      "text/plain": [
       "<Figure size 432x288 with 2 Axes>"
      ]
     },
     "metadata": {
      "needs_background": "light"
     },
     "output_type": "display_data"
    }
   ],
   "source": [
    "fails.plot()"
   ]
  },
  {
   "cell_type": "code",
   "execution_count": 18,
   "id": "564de155",
   "metadata": {},
   "outputs": [],
   "source": [
    "# replace nans with zeros in harvest rates\n",
    "sec_young_harvestrate_rel = sec_young_harvestrate_rel.fillna(0.)\n",
    "sec_mature_harvestrate_rel = sec_mature_harvestrate_rel.fillna(0.)"
   ]
  },
  {
   "cell_type": "code",
   "execution_count": 19,
   "id": "9e9e83bb",
   "metadata": {},
   "outputs": [],
   "source": [
    "n_ts_out = 500\n",
    "fout = fin_luh2.sel(time=[time]*n_ts_out)"
   ]
  },
  {
   "cell_type": "code",
   "execution_count": 20,
   "id": "369e1c0c",
   "metadata": {},
   "outputs": [],
   "source": [
    "# first zero all transitions\n",
    "varlist =  list(fout.variables)\n",
    "matchers = ['_to_','_harv','_bioh']\n",
    "matching_vars = [s for s in varlist if any(xs in s for xs in matchers)]\n",
    "#matching_vars\n",
    "\n",
    "# Loop over variables governing transition rates and zero them\n",
    "for var in matching_vars:\n",
    "    # Access the variable data\n",
    "    fout[var] = fout[var] * 0.\n"
   ]
  },
  {
   "cell_type": "code",
   "execution_count": 21,
   "id": "7073f7bc",
   "metadata": {},
   "outputs": [],
   "source": [
    "# now rewrite the secondary harvest rates based on the fits above\n",
    "\n",
    "for i_ts in range(n_ts_out):\n",
    "    fout.secyf_harv[i_ts,:,:] = sec_young_harvestrate_rel * (fout.secdf.isel(time=0) + fout.secdn.isel(time=0)).data\n",
    "    fout.secmf_harv[i_ts,:,:] = sec_mature_harvestrate_rel * (fout.secdf.isel(time=0) + fout.secdn.isel(time=0)).data\n",
    "\n"
   ]
  },
  {
   "cell_type": "code",
   "execution_count": 22,
   "id": "3ec35e8a",
   "metadata": {},
   "outputs": [],
   "source": [
    "fout['time'] = np.arange(n_ts_out)\n",
    "fout['YEAR'][:] = np.arange(n_ts_out)\n"
   ]
  },
  {
   "cell_type": "code",
   "execution_count": 23,
   "id": "6baf0063",
   "metadata": {},
   "outputs": [],
   "source": [
    "fout.to_netcdf('LUH2_states_transitions_management.timeseries_4x5_hist_steadystate_'+str(year_to_calc_steadystate)+'_'+str(date.today())+'.nc')"
   ]
  },
  {
   "cell_type": "code",
   "execution_count": null,
   "id": "49ea1929",
   "metadata": {},
   "outputs": [],
   "source": []
  }
 ],
 "metadata": {
  "kernelspec": {
   "display_name": "Python 3 (ipykernel)",
   "language": "python",
   "name": "python3"
  },
  "language_info": {
   "codemirror_mode": {
    "name": "ipython",
    "version": 3
   },
   "file_extension": ".py",
   "mimetype": "text/x-python",
   "name": "python",
   "nbconvert_exporter": "python",
   "pygments_lexer": "ipython3",
   "version": "3.9.13"
  }
 },
 "nbformat": 4,
 "nbformat_minor": 5
}
